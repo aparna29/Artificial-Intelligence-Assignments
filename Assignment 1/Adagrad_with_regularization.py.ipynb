{
 "cells": [
  {
   "cell_type": "code",
   "execution_count": 17,
   "metadata": {},
   "outputs": [],
   "source": [
    "import numpy\n",
    "from keras.datasets import mnist\n",
    "from keras.models import Sequential\n",
    "from keras.layers import Dense\n",
    "from keras.layers import Dropout\n",
    "from keras import regularizers\n",
    "from keras.utils import np_utils\n",
    "from keras.optimizers import Adagrad\n",
    "import matplotlib.pyplot as plt"
   ]
  },
  {
   "cell_type": "code",
   "execution_count": 18,
   "metadata": {},
   "outputs": [],
   "source": [
    "seed = 11\n",
    "numpy.random.seed(seed)"
   ]
  },
  {
   "cell_type": "code",
   "execution_count": 19,
   "metadata": {},
   "outputs": [],
   "source": [
    "(X_train, y_train), (X_test, y_test) = mnist.load_data()\n",
    "num_pixels = X_train.shape[1] * X_train.shape[2]"
   ]
  },
  {
   "cell_type": "code",
   "execution_count": 20,
   "metadata": {},
   "outputs": [],
   "source": [
    "X_train = X_train.reshape(X_train.shape[0], num_pixels).astype('float32')\n",
    "X_test = X_test.reshape(X_test.shape[0], num_pixels).astype('float32')\n",
    "X_train = X_train / 255\n",
    "X_test = X_test / 255\n",
    "y_train = np_utils.to_categorical(y_train)\n",
    "y_test = np_utils.to_categorical(y_test)\n",
    "num_classes = y_test.shape[1]"
   ]
  },
  {
   "cell_type": "code",
   "execution_count": 21,
   "metadata": {},
   "outputs": [],
   "source": [
    "def baseline_model():\n",
    "\tmodel = Sequential()\n",
    "\tmodel.add(Dense(num_pixels, input_dim=num_pixels, kernel_initializer='normal', kernel_regularizer=regularizers.l2(0.01),activation='relu'))\n",
    "\tmodel.add(Dense(450, kernel_initializer='normal',kernel_regularizer=regularizers.l2(0.01), activation='relu'))\n",
    "\tmodel.add(Dense(num_classes, kernel_initializer='normal', activation='softmax'))\n",
    "\tmodel.compile(loss='categorical_crossentropy', optimizer='adagrad', metrics=['accuracy'])\n",
    "\tadagrad = Adagrad(lr=0.02, epsilon=None, decay=0.0)\n",
    "\t#sgd = SGD(lr=0.01, decay=1e-6, momentum=0.01, nesterov=True)\n",
    "\treturn model"
   ]
  },
  {
   "cell_type": "code",
   "execution_count": 22,
   "metadata": {},
   "outputs": [],
   "source": [
    "model = baseline_model()"
   ]
  },
  {
   "cell_type": "code",
   "execution_count": 23,
   "metadata": {},
   "outputs": [
    {
     "name": "stdout",
     "output_type": "stream",
     "text": [
      "Train on 60000 samples, validate on 10000 samples\n",
      "Epoch 1/50\n",
      " - 48s - loss: 0.9097 - acc: 0.9017 - val_loss: 0.5007 - val_acc: 0.9314\n",
      "Epoch 2/50\n",
      " - 46s - loss: 0.4859 - acc: 0.9320 - val_loss: 0.4392 - val_acc: 0.9414\n",
      "Epoch 3/50\n",
      " - 46s - loss: 0.4401 - acc: 0.9394 - val_loss: 0.4139 - val_acc: 0.9444\n",
      "Epoch 4/50\n",
      " - 46s - loss: 0.4118 - acc: 0.9445 - val_loss: 0.3939 - val_acc: 0.9463\n",
      "Epoch 5/50\n",
      " - 46s - loss: 0.3919 - acc: 0.9469 - val_loss: 0.3844 - val_acc: 0.9475\n",
      "Epoch 6/50\n",
      " - 46s - loss: 0.3765 - acc: 0.9499 - val_loss: 0.3593 - val_acc: 0.9527\n",
      "Epoch 7/50\n",
      " - 46s - loss: 0.3642 - acc: 0.9527 - val_loss: 0.3512 - val_acc: 0.9546\n",
      "Epoch 8/50\n",
      " - 46s - loss: 0.3540 - acc: 0.9548 - val_loss: 0.3415 - val_acc: 0.9538\n",
      "Epoch 9/50\n",
      " - 48s - loss: 0.3452 - acc: 0.9559 - val_loss: 0.3314 - val_acc: 0.9578\n",
      "Epoch 10/50\n",
      " - 47s - loss: 0.3377 - acc: 0.9574 - val_loss: 0.3246 - val_acc: 0.9600\n",
      "Epoch 11/50\n",
      " - 46s - loss: 0.3308 - acc: 0.9582 - val_loss: 0.3275 - val_acc: 0.9585\n",
      "Epoch 12/50\n",
      " - 46s - loss: 0.3251 - acc: 0.9589 - val_loss: 0.3197 - val_acc: 0.9572\n",
      "Epoch 13/50\n",
      " - 46s - loss: 0.3196 - acc: 0.9601 - val_loss: 0.3136 - val_acc: 0.9600\n",
      "Epoch 14/50\n",
      " - 46s - loss: 0.3143 - acc: 0.9616 - val_loss: 0.3076 - val_acc: 0.9620\n",
      "Epoch 15/50\n",
      " - 46s - loss: 0.3099 - acc: 0.9623 - val_loss: 0.3021 - val_acc: 0.9630\n",
      "Epoch 16/50\n",
      " - 46s - loss: 0.3056 - acc: 0.9627 - val_loss: 0.3015 - val_acc: 0.9630\n",
      "Epoch 17/50\n",
      " - 46s - loss: 0.3023 - acc: 0.9630 - val_loss: 0.2993 - val_acc: 0.9632\n",
      "Epoch 18/50\n",
      " - 46s - loss: 0.2986 - acc: 0.9633 - val_loss: 0.2929 - val_acc: 0.9638\n",
      "Epoch 19/50\n",
      " - 46s - loss: 0.2953 - acc: 0.9646 - val_loss: 0.2911 - val_acc: 0.9653\n",
      "Epoch 20/50\n",
      " - 46s - loss: 0.2919 - acc: 0.9651 - val_loss: 0.2869 - val_acc: 0.9654\n",
      "Epoch 21/50\n",
      " - 46s - loss: 0.2891 - acc: 0.9651 - val_loss: 0.2837 - val_acc: 0.9652\n",
      "Epoch 22/50\n",
      " - 46s - loss: 0.2863 - acc: 0.9663 - val_loss: 0.2819 - val_acc: 0.9662\n",
      "Epoch 23/50\n",
      " - 46s - loss: 0.2836 - acc: 0.9665 - val_loss: 0.2779 - val_acc: 0.9657\n",
      "Epoch 24/50\n",
      " - 46s - loss: 0.2812 - acc: 0.9661 - val_loss: 0.2763 - val_acc: 0.9665\n",
      "Epoch 25/50\n",
      " - 46s - loss: 0.2789 - acc: 0.9671 - val_loss: 0.2783 - val_acc: 0.9662\n",
      "Epoch 26/50\n",
      " - 46s - loss: 0.2766 - acc: 0.9674 - val_loss: 0.2727 - val_acc: 0.9666\n",
      "Epoch 27/50\n",
      " - 46s - loss: 0.2745 - acc: 0.9672 - val_loss: 0.2710 - val_acc: 0.9667\n",
      "Epoch 28/50\n",
      " - 46s - loss: 0.2725 - acc: 0.9682 - val_loss: 0.2691 - val_acc: 0.9678\n",
      "Epoch 29/50\n",
      " - 46s - loss: 0.2704 - acc: 0.9679 - val_loss: 0.2687 - val_acc: 0.9676\n",
      "Epoch 30/50\n",
      " - 47s - loss: 0.2690 - acc: 0.9684 - val_loss: 0.2683 - val_acc: 0.9683\n",
      "Epoch 31/50\n",
      " - 47s - loss: 0.2671 - acc: 0.9683 - val_loss: 0.2658 - val_acc: 0.9675\n",
      "Epoch 32/50\n",
      " - 47s - loss: 0.2653 - acc: 0.9690 - val_loss: 0.2623 - val_acc: 0.9676\n",
      "Epoch 33/50\n",
      " - 46s - loss: 0.2634 - acc: 0.9695 - val_loss: 0.2633 - val_acc: 0.9683\n",
      "Epoch 34/50\n",
      " - 46s - loss: 0.2619 - acc: 0.9694 - val_loss: 0.2623 - val_acc: 0.9684\n",
      "Epoch 35/50\n",
      " - 46s - loss: 0.2605 - acc: 0.9694 - val_loss: 0.2625 - val_acc: 0.9677\n",
      "Epoch 36/50\n",
      " - 47s - loss: 0.2589 - acc: 0.9700 - val_loss: 0.2587 - val_acc: 0.9677\n",
      "Epoch 37/50\n",
      " - 46s - loss: 0.2573 - acc: 0.9700 - val_loss: 0.2554 - val_acc: 0.9702\n",
      "Epoch 38/50\n",
      " - 46s - loss: 0.2562 - acc: 0.9705 - val_loss: 0.2562 - val_acc: 0.9700\n",
      "Epoch 39/50\n",
      " - 46s - loss: 0.2545 - acc: 0.9709 - val_loss: 0.2540 - val_acc: 0.9690\n",
      "Epoch 40/50\n",
      " - 46s - loss: 0.2533 - acc: 0.9704 - val_loss: 0.2535 - val_acc: 0.9699\n",
      "Epoch 41/50\n",
      " - 46s - loss: 0.2521 - acc: 0.9711 - val_loss: 0.2515 - val_acc: 0.9698\n",
      "Epoch 42/50\n",
      " - 47s - loss: 0.2509 - acc: 0.9711 - val_loss: 0.2504 - val_acc: 0.9705\n",
      "Epoch 43/50\n",
      " - 46s - loss: 0.2496 - acc: 0.9714 - val_loss: 0.2492 - val_acc: 0.9698\n",
      "Epoch 44/50\n",
      " - 46s - loss: 0.2487 - acc: 0.9713 - val_loss: 0.2491 - val_acc: 0.9703\n",
      "Epoch 45/50\n",
      " - 46s - loss: 0.2473 - acc: 0.9720 - val_loss: 0.2487 - val_acc: 0.9703\n",
      "Epoch 46/50\n",
      " - 46s - loss: 0.2460 - acc: 0.9720 - val_loss: 0.2481 - val_acc: 0.9709\n",
      "Epoch 47/50\n",
      " - 46s - loss: 0.2449 - acc: 0.9725 - val_loss: 0.2480 - val_acc: 0.9701\n",
      "Epoch 48/50\n",
      " - 46s - loss: 0.2443 - acc: 0.9723 - val_loss: 0.2479 - val_acc: 0.9704\n",
      "Epoch 49/50\n",
      " - 47s - loss: 0.2431 - acc: 0.9726 - val_loss: 0.2457 - val_acc: 0.9694\n",
      "Epoch 50/50\n",
      " - 46s - loss: 0.2421 - acc: 0.9728 - val_loss: 0.2432 - val_acc: 0.9699\n"
     ]
    }
   ],
   "source": [
    "#model.fit(X_train, y_train, validation_data=(X_test, y_test), epochs=10, batch_size=32, verbose=2)\n",
    "history = model.fit(X_train, y_train, validation_data=(X_test, y_test), epochs=50, batch_size=32, verbose=2)"
   ]
  },
  {
   "cell_type": "code",
   "execution_count": 24,
   "metadata": {},
   "outputs": [
    {
     "name": "stdout",
     "output_type": "stream",
     "text": [
      "Baseline Error: 3.01%\n",
      "Test accuracy: 96.99%\n"
     ]
    }
   ],
   "source": [
    "scores = model.evaluate(X_test, y_test, verbose=0)\n",
    "print(\"Baseline Error: %.2f%%\" % (100-scores[1]*100))\n",
    "print(\"Test accuracy: %.2f%%\" % (scores[1]*100))"
   ]
  },
  {
   "cell_type": "code",
   "execution_count": 25,
   "metadata": {},
   "outputs": [
    {
     "data": {
      "image/png": "[encoded data removed]",
      "text/plain": [
       "<matplotlib.figure.Figure at 0x7fa934129fd0>"
      ]
     },
     "metadata": {},
     "output_type": "display_data"
    },
    {
     "data": {
      "image/png": "[encoded data removed]",
      "text/plain": [
       "<matplotlib.figure.Figure at 0x7fa934139ba8>"
      ]
     },
     "metadata": {},
     "output_type": "display_data"
    }
   ],
   "source": [
    "plt.plot(history.history[\"acc\"])\n",
    "plt.plot(history.history[\"val_acc\"])\n",
    "plt.title(\"Model Accuracy\")\n",
    "plt.xlabel(\"Epoch\")\n",
    "plt.ylabel(\"Accuracy\")\n",
    "plt.legend([\"train\", \"test\"], loc=\"upper left\")\n",
    "plt.show()\n",
    "\n",
    "plt.plot(history.history[\"loss\"])\n",
    "plt.plot(history.history[\"val_loss\"])\n",
    "plt.title(\"Model Loss\")\n",
    "plt.xlabel(\"Epoch\")\n",
    "plt.ylabel(\"Loss\")\n",
    "plt.legend([\"train\", \"test\"], loc=\"upper left\")\n",
    "plt.show()"
   ]
  },
  {
   "cell_type": "code",
   "execution_count": 26,
   "metadata": {},
   "outputs": [
    {
     "name": "stdout",
     "output_type": "stream",
     "text": [
      "_________________________________________________________________\n",
      "Layer (type)                 Output Shape              Param #   \n",
      "=================================================================\n",
      "dense_4 (Dense)              (None, 784)               615440    \n",
      "_________________________________________________________________\n",
      "dense_5 (Dense)              (None, 450)               353250    \n",
      "_________________________________________________________________\n",
      "dense_6 (Dense)              (None, 10)                4510      \n",
      "=================================================================\n",
      "Total params: 973,200\n",
      "Trainable params: 973,200\n",
      "Non-trainable params: 0\n",
      "_________________________________________________________________\n"
     ]
    }
   ],
   "source": [
    "model.summary()"
   ]
  },
  {
   "cell_type": "code",
   "execution_count": null,
   "metadata": {},
   "outputs": [],
   "source": []
  },
  {
   "cell_type": "code",
   "execution_count": null,
   "metadata": {},
   "outputs": [],
   "source": []
  }
 ],
 "metadata": {
  "kernelspec": {
   "display_name": "Python 3",
   "language": "python",
   "name": "python3"
  },
  "language_info": {
   "codemirror_mode": {
    "name": "ipython",
    "version": 3
   },
   "file_extension": ".py",
   "mimetype": "text/x-python",
   "name": "python",
   "nbconvert_exporter": "python",
   "pygments_lexer": "ipython3",
   "version": "3.4.3"
  }
 },
 "nbformat": 4,
 "nbformat_minor": 2
}
